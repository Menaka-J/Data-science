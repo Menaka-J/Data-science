{
 "cells": [
  {
   "cell_type": "code",
   "execution_count": 2,
   "id": "c32f16cf-c3f0-45c1-9ebf-f929e76b3a25",
   "metadata": {},
   "outputs": [
    {
     "name": "stdout",
     "output_type": "stream",
     "text": [
      "Top grossing movies saved to top_grossing_movies.csv\n",
      "     Rank                                       Title   Gross Revenue\n",
      "0       1                                      Avatar  $2,923,710,708\n",
      "1       2                           Avengers: Endgame  $2,799,439,100\n",
      "2       3                    Avatar: The Way of Water  $2,320,250,281\n",
      "3       4                                     Titanic  $2,264,812,968\n",
      "4       5  Star Wars: Episode VII - The Force Awakens  $2,071,310,218\n",
      "..    ...                                         ...             ...\n",
      "195   196                 Madagascar: Escape 2 Africa    $603,900,354\n",
      "196   197                           War of the Worlds    $603,873,504\n",
      "197   198                                     Tangled    $591,806,017\n",
      "198   199                           Quantum of Solace    $589,593,688\n",
      "199   200                                Men in Black    $589,390,539\n",
      "\n",
      "[200 rows x 3 columns]\n"
     ]
    }
   ],
   "source": [
    " \n",
    "import requests \n",
    "from bs4 import BeautifulSoup \n",
    "import pandas as pd \n",
    " \n",
    "url = 'https://www.boxofficemojo.com/alltime/world/' \n",
    " \n",
    "response = requests.get(url) \n",
    " \n",
    "if response.status_code == 200: \n",
    " \n",
    "    soup = BeautifulSoup(response.content, 'html.parser') \n",
    " \n",
    "    table = soup.find('table') \n",
    " \n",
    "    movies_data = [] \n",
    " \n",
    "    for row in table.find_all('tr')[1:]:   \n",
    "        columns = row.find_all('td') \n",
    "        if columns: \n",
    "            rank = columns[0].get_text(strip=True) \n",
    "            title = columns[1].get_text(strip=True) \n",
    "            gross = columns[2].get_text(strip=True) \n",
    "            movies_data.append([rank, title, gross]) \n",
    " \n",
    "    df = pd.DataFrame(movies_data, columns=['Rank', 'Title', 'Gross Revenue']) \n",
    " \n",
    "    df.to_csv('top_grossing_movies.csv', index=False) \n",
    "  \n",
    "    print('Top grossing movies saved to top_grossing_movies.csv') \n",
    "df2 = pd.read_csv('top_grossing_movies.csv') \n",
    "print(df2) \n",
    " \n"
   ]
  },
  {
   "cell_type": "code",
   "execution_count": null,
   "id": "4d998849-6003-4118-9481-c4a5d7579a2a",
   "metadata": {},
   "outputs": [],
   "source": []
  }
 ],
 "metadata": {
  "kernelspec": {
   "display_name": "Python 3 (ipykernel)",
   "language": "python",
   "name": "python3"
  },
  "language_info": {
   "codemirror_mode": {
    "name": "ipython",
    "version": 3
   },
   "file_extension": ".py",
   "mimetype": "text/x-python",
   "name": "python",
   "nbconvert_exporter": "python",
   "pygments_lexer": "ipython3",
   "version": "3.13.2"
  }
 },
 "nbformat": 4,
 "nbformat_minor": 5
}
